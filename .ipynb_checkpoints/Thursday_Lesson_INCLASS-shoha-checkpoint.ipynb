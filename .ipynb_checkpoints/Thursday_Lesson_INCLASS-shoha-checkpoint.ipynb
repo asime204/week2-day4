{
 "cells": [
  {
   "cell_type": "markdown",
   "metadata": {},
   "source": [
    "# Object-Oriented-Programming (OOP)"
   ]
  },
  {
   "cell_type": "markdown",
   "metadata": {},
   "source": [
    "## Tasks Today:\n",
    "\n",
    "   \n",
    "\n",
    "1) <b>Creating a Class (Initializing/Declaring)</b> <br>\n",
    "2) <b>Using a Class (Instantiating)</b> <br>\n",
    " &nbsp;&nbsp;&nbsp;&nbsp; a) Creating One Instance <br>\n",
    " &nbsp;&nbsp;&nbsp;&nbsp; b) Creating Multiple Instances <br>\n",
    " &nbsp;&nbsp;&nbsp;&nbsp; c) In-Class Exercise #1 - Create a Class 'Car' and instantiate three different makes of cars <br>\n",
    "3) <b>The \\__init\\__() Method</b> <br>\n",
    " &nbsp;&nbsp;&nbsp;&nbsp; a) The 'self' Attribute <br>\n",
    "4) <b>Class Attributes</b> <br>\n",
    " &nbsp;&nbsp;&nbsp;&nbsp; a) Initializing Attributes <br>\n",
    " &nbsp;&nbsp;&nbsp;&nbsp; b) Setting an Attribute Outside of the \\__init\\__() Method <br>\n",
    " &nbsp;&nbsp;&nbsp;&nbsp; c) Setting Defaults for Attributes <br>\n",
    " &nbsp;&nbsp;&nbsp;&nbsp; d) Accessing Class Attributes <br>\n",
    " &nbsp;&nbsp;&nbsp;&nbsp; e) Changing Class Attributes <br>\n",
    " &nbsp;&nbsp;&nbsp;&nbsp; f) In-Class Exercise #2 - Add a color and wheels attribute to your 'Car' class <br>\n",
    "5) <b>Class Methods</b> <br>\n",
    " &nbsp;&nbsp;&nbsp;&nbsp; a) Creating <br>\n",
    " &nbsp;&nbsp;&nbsp;&nbsp; b) Calling <br>\n",
    " &nbsp;&nbsp;&nbsp;&nbsp; c) Modifying an Attribute's Value Through a Method <br>\n",
    " &nbsp;&nbsp;&nbsp;&nbsp; d) Incrementing an Attribute's Value Through a Method <br>\n",
    " &nbsp;&nbsp;&nbsp;&nbsp; e) In-Class Exercise #3 - Add a method that prints the cars color and wheel number, then call them <br>\n",
    "6) <b>Inheritance</b> <br>\n",
    " &nbsp;&nbsp;&nbsp;&nbsp; a) Syntax for Inheriting from a Parent Class <br>\n",
    " &nbsp;&nbsp;&nbsp;&nbsp; b) The \\__init\\__() Method for a Child Class (super()) <br>\n",
    " &nbsp;&nbsp;&nbsp;&nbsp; c) Defining Attributes and Methods for the Child Class <br>\n",
    " &nbsp;&nbsp;&nbsp;&nbsp; d) Method Overriding <br>\n",
    " &nbsp;&nbsp;&nbsp;&nbsp; e) In-Class Exercise #4 - Create a class 'Ford' that inherits from 'Car' class and initialize it as a Blue Ford Explorer with 4 wheels using the super() method <br>\n",
    "7) <b>Classes as Attributes</b> <br>\n",
    "8) <b>Exercises</b> <br>\n",
    " &nbsp;&nbsp;&nbsp;&nbsp; a) Exercise #1 - Turn the shopping cart program from yesterday into an object-oriented program <br>"
   ]
  },
  {
   "cell_type": "markdown",
   "metadata": {},
   "source": [
    "## Creating a Class (Initializing/Declaring)\n",
    "<p>When creating a class, function, or even a variable you are initializing that object. Initializing and Declaring occur at the same time in Python, whereas in lower level languages you have to declare an object before initializing it. This is the first step in the process of using a class.</p>"
   ]
  },
  {
   "cell_type": "code",
   "execution_count": 5,
   "metadata": {},
   "outputs": [],
   "source": [
    "class Car():\n",
    "    wheels = 4\n",
    "    color = 'blue'\n"
   ]
  },
  {
   "cell_type": "markdown",
   "metadata": {},
   "source": [
    "## Using a Class (Instantiating)\n",
    "<p>The process of creating a class is called <i>Instantiating</i>. Each time you create a variable of that type of class, it is referred to as an <i>Instance</i> of that class. This is the second step in the process of using a class.</p>"
   ]
  },
  {
   "cell_type": "markdown",
   "metadata": {},
   "source": [
    "##### Creating One Instance"
   ]
  },
  {
   "cell_type": "code",
   "execution_count": 13,
   "metadata": {},
   "outputs": [
    {
     "name": "stdout",
     "output_type": "stream",
     "text": [
      "False\n",
      "4\n",
      "blue\n",
      "4\n",
      "blue\n",
      "56\n"
     ]
    }
   ],
   "source": [
    "ford = Car()\n",
    "x = Car()\n",
    "# THEY ARE EQUAL IN VALUE BUT NOT REFERENCE\n",
    "# == vs is\n",
    "print(ford == x)\n",
    "print(ford.wheels)\n",
    "print(ford.color)\n",
    "\n",
    "print(x.wheels\n",
    "print(x.color)\n",
    "\n",
    "x.wheels = 56\n",
    "print(x.wheels)"
   ]
  },
  {
   "cell_type": "markdown",
   "metadata": {},
   "source": [
    "##### Creating Multiple Instances"
   ]
  },
  {
   "cell_type": "code",
   "execution_count": null,
   "metadata": {},
   "outputs": [],
   "source": [
    "# see above"
   ]
  },
  {
   "cell_type": "markdown",
   "metadata": {},
   "source": [
    "##### In-Class Exercise #1 - Create a Class 'Car' and Instantiate three different makes of cars"
   ]
  },
  {
   "cell_type": "code",
   "execution_count": null,
   "metadata": {},
   "outputs": [],
   "source": []
  },
  {
   "cell_type": "markdown",
   "metadata": {},
   "source": [
    "## The \\__init\\__() Method <br>\n",
    "<p>This method is used in almost every created class, and called only once upon the creation of the class instance. This method will initialize all variables needed for the object.</p>"
   ]
  },
  {
   "cell_type": "code",
   "execution_count": 40,
   "metadata": {},
   "outputs": [
    {
     "name": "stdout",
     "output_type": "stream",
     "text": [
      "Honda\n",
      "Civic\n",
      "1999\n",
      "4\n",
      "False\n",
      "6\n",
      "{'make': 'Honda', 'model': 'Civic', 'year': 1999, 'convertible': False, 'wheels': 4}\n"
     ]
    }
   ],
   "source": [
    "class Car():\n",
    "    def __init__(self, make, model, y, wheels=4):\n",
    "        self.make = make\n",
    "        self.model = model\n",
    "        self.year = y\n",
    "        self.convertible = False\n",
    "        self.wheels = wheels\n",
    "        \n",
    "    \n",
    "    \n",
    "x=Car('Honda', 'Civic', 1999)\n",
    "print(x.make)\n",
    "print(x.model)\n",
    "print(x.year)\n",
    "brandt = Car('Tesla', \"CyberTruck\",2023, 6)\n",
    "brandt.make\n",
    "\n",
    "print(x.wheels)\n",
    "print(brandt.convertible)\n",
    "print(brandt.wheels)\n",
    "\n",
    "\n",
    "print(x.__dict__)"
   ]
  },
  {
   "cell_type": "markdown",
   "metadata": {},
   "source": [
    "##### The 'self' Attribute <br>\n",
    "<p>This attribute is required to keep track of specific instance's attributes. Without the self attribute, the program would not know how to reference or keep track of an instance's attributes.</p>"
   ]
  },
  {
   "cell_type": "code",
   "execution_count": 39,
   "metadata": {},
   "outputs": [],
   "source": [
    "# see above\n"
   ]
  },
  {
   "cell_type": "markdown",
   "metadata": {},
   "source": [
    "## Class Attributes <br>\n",
    "<p>While variables are inside of a class, they are referred to as attributes and not variables. When someone says 'attribute' you know they're speaking about a class. Attributes can be initialized through the init method, or outside of it.</p>"
   ]
  },
  {
   "cell_type": "markdown",
   "metadata": {},
   "source": [
    "##### Initializing Attributes"
   ]
  },
  {
   "cell_type": "code",
   "execution_count": null,
   "metadata": {},
   "outputs": [],
   "source": [
    "# see above"
   ]
  },
  {
   "cell_type": "markdown",
   "metadata": {},
   "source": [
    "##### Accessing Class Attributes"
   ]
  },
  {
   "cell_type": "code",
   "execution_count": null,
   "metadata": {
    "scrolled": true
   },
   "outputs": [],
   "source": [
    "# See Above"
   ]
  },
  {
   "cell_type": "markdown",
   "metadata": {},
   "source": [
    "##### Setting Defaults for Attributes"
   ]
  },
  {
   "cell_type": "code",
   "execution_count": null,
   "metadata": {},
   "outputs": [],
   "source": [
    "# see above"
   ]
  },
  {
   "cell_type": "markdown",
   "metadata": {},
   "source": [
    "##### Changing Class Attributes <br>\n",
    "<p>Keep in mind there are global class attributes and then there are attributes only available to each class instance which won't effect other classes.</p>"
   ]
  },
  {
   "cell_type": "code",
   "execution_count": 45,
   "metadata": {},
   "outputs": [
    {
     "name": "stdout",
     "output_type": "stream",
     "text": [
      "0\n",
      "{'make': 'Honda', 'model': 'Civic', 'year': 1999, 'convertible': False, 'wheels': 4, 'test': 0}\n"
     ]
    }
   ],
   "source": [
    "x.test = 0 \n",
    "print(x.test)\n",
    "print(x.__dict__)\n"
   ]
  },
  {
   "cell_type": "code",
   "execution_count": null,
   "metadata": {},
   "outputs": [],
   "source": []
  },
  {
   "cell_type": "markdown",
   "metadata": {},
   "source": [
    "##### In-Class Exercise #2 - Add a doors and seats attribute to your 'Car' class then print out two different instances with different doors and seats"
   ]
  },
  {
   "cell_type": "code",
   "execution_count": null,
   "metadata": {},
   "outputs": [],
   "source": []
  },
  {
   "cell_type": "markdown",
   "metadata": {},
   "source": [
    "## Class Methods <br>\n",
    "<p>While inside of a class, functions are referred to as 'methods'. If you hear someone mention methods, they're speaking about classes. Methods are essentially functions, but only callable on the instances of a class.</p>"
   ]
  },
  {
   "cell_type": "markdown",
   "metadata": {},
   "source": [
    "##### Creating"
   ]
  },
  {
   "cell_type": "code",
   "execution_count": 57,
   "metadata": {},
   "outputs": [
    {
     "name": "stdout",
     "output_type": "stream",
     "text": [
      "3\n",
      "0\n",
      "6\n",
      "HI! My name is Goofy. I am a 6 years old Boston Terrier\n"
     ]
    }
   ],
   "source": [
    "class Dog():\n",
    "    def __init__(self, name, b, age=0):\n",
    "        self.name = name\n",
    "        self.breed = b\n",
    "        self.age = age\n",
    "     \n",
    "    # SETTER\n",
    "    def happyBirthday(self):\n",
    "        self.age +=1\n",
    "        \n",
    "    def addAge(self, num):\n",
    "        self.age += num\n",
    "    \n",
    "    def changeName(self, new_name):\n",
    "        self.name = new_name\n",
    "        \n",
    "        \n",
    "    # GETTER\n",
    "    def myInfo(self):\n",
    "        string = f'HI! My name is {self.name}. I am a {self.age} years old {self.breed}'\n",
    "        return string\n",
    "        \n",
    "\n",
    "d1 = Dog('Buddy', 'German Shepard', 3)\n",
    "d2 = Dog('Shoha', 'Poodle', 9001)\n",
    "d3 = Dog('Garfield', 'Boston Terrier')\n",
    "print(d1.age)\n",
    "\n",
    "# Dog.happyBirthday(d1)\n",
    "d1.happyBirthday()\n",
    "\n",
    "\n",
    "print(d3.age)\n",
    "# Dog.addAge(d3, 6) ## THIS IS WHERE SELF COMES FROM (WHO IS DOING THE ACTION)\n",
    "d3.addAge(6)\n",
    "print(d3.age)\n",
    "\n",
    "d3.changeName('Goofy')\n",
    "d3s_info = d3.myInfo()\n",
    "print(d3s_info)\n",
    "\n",
    "d3.name = \"Goofy\""
   ]
  },
  {
   "cell_type": "markdown",
   "metadata": {},
   "source": [
    "##### Calling"
   ]
  },
  {
   "cell_type": "code",
   "execution_count": null,
   "metadata": {},
   "outputs": [],
   "source": [
    "# See Above\n",
    "# "
   ]
  },
  {
   "cell_type": "markdown",
   "metadata": {},
   "source": [
    "##### Modifying an Attribute's Value Through a Method"
   ]
  },
  {
   "cell_type": "code",
   "execution_count": null,
   "metadata": {},
   "outputs": [],
   "source": [
    "# see above\n"
   ]
  },
  {
   "cell_type": "markdown",
   "metadata": {},
   "source": [
    "##### Incrementing an Attribute's Value Through a Method"
   ]
  },
  {
   "cell_type": "code",
   "execution_count": null,
   "metadata": {},
   "outputs": [],
   "source": [
    "# see above"
   ]
  },
  {
   "cell_type": "markdown",
   "metadata": {},
   "source": [
    "##### In-Class Exercise #3 - Add a method that takes in three parameters of year, doors and seats and prints out a formatted print statement with make, model, year, seats, and doors"
   ]
  },
  {
   "cell_type": "code",
   "execution_count": null,
   "metadata": {},
   "outputs": [],
   "source": [
    "# Create class with 2 paramters inside of the __init__ which are make and model\n",
    "\n",
    "# Inside of the Car class create a method that has 4 parameter in total (self,year,door,seats)\n",
    "\n",
    "# Output: This car is from 2019 and is a Ford Expolorer and has 4 doors and 5 seats\n",
    "\n"
   ]
  },
  {
   "cell_type": "markdown",
   "metadata": {},
   "source": [
    "## Inheritance <br>\n",
    "<p>You can create a child-parent relationship between two classes by using inheritance. What this allows you to do is have overriding methods, but also inherit traits from the parent class. Think of it as an actual parent and child, the child will inherit the parent's genes, as will the classes in OOP</p>"
   ]
  },
  {
   "cell_type": "markdown",
   "metadata": {},
   "source": [
    "##### Syntax for Inheriting from a Parent Class"
   ]
  },
  {
   "cell_type": "code",
   "execution_count": 85,
   "metadata": {},
   "outputs": [
    {
     "name": "stdout",
     "output_type": "stream",
     "text": [
      "True\n",
      "99\n",
      "buddy\n",
      "100\n",
      "...\n",
      "Garfield\n",
      "True\n",
      "99\n",
      "meow\n"
     ]
    }
   ],
   "source": [
    "class Animal():\n",
    "    def __init__(self, life):\n",
    "        self.alive = True\n",
    "        self.lifespan = life\n",
    "    \n",
    "    def breathe(self):\n",
    "        print('...')\n",
    "        \n",
    "\n",
    "        \n",
    "        \n",
    "class User(Animal):\n",
    "    def __init__(self, name, life):\n",
    "        Animal.__init__(self, life)\n",
    "        self.name = name\n",
    "        \n",
    "\n",
    "\n",
    "\n",
    "\n",
    "class Cat(Animal):\n",
    "    def __init__(self,name, life ):\n",
    "        super().__init__(life)\n",
    "        self.name = name\n",
    "        \n",
    "    def talk(self):\n",
    "        print('meow')\n",
    "    \n",
    "a1 = Animal(100)\n",
    "d1 = Dog('buddy', 99)\n",
    "a2 = Animal(50)\n",
    "print(d1.alive)\n",
    "print(d1.lifespan)\n",
    "print(d1.name)\n",
    "print(a1.lifespan)\n",
    "d1.breathe()\n",
    "\n",
    "\n",
    "c1 = Cat('Garfield', 99)\n",
    "print(c1.name)\n",
    "print(c1.alive)\n",
    "print(c1.lifespan)\n",
    "c1.talk()\n"
   ]
  },
  {
   "cell_type": "markdown",
   "metadata": {},
   "source": [
    "##### The \\__init\\__() Method for a Child Class - super()"
   ]
  },
  {
   "cell_type": "code",
   "execution_count": null,
   "metadata": {
    "scrolled": true
   },
   "outputs": [],
   "source": [
    "#see above"
   ]
  },
  {
   "cell_type": "markdown",
   "metadata": {},
   "source": [
    "##### Defining Attributes and Methods for the Child Class"
   ]
  },
  {
   "cell_type": "code",
   "execution_count": null,
   "metadata": {},
   "outputs": [],
   "source": [
    "# See Above"
   ]
  },
  {
   "cell_type": "markdown",
   "metadata": {},
   "source": [
    "##### Method Overriding"
   ]
  },
  {
   "cell_type": "code",
   "execution_count": null,
   "metadata": {},
   "outputs": [],
   "source": [
    "# See Above"
   ]
  },
  {
   "cell_type": "markdown",
   "metadata": {},
   "source": [
    "## Classes as Attributes <br>\n",
    "<p>Classes can also be used as attributes within another class. This is useful in situations where you need to keep variables locally stored, instead of globally stored.</p>"
   ]
  },
  {
   "cell_type": "code",
   "execution_count": 93,
   "metadata": {},
   "outputs": [
    {
     "data": {
      "text/plain": [
       "20"
      ]
     },
     "execution_count": 93,
     "metadata": {},
     "output_type": "execute_result"
    }
   ],
   "source": [
    "class Car():\n",
    "    def __init__(self, year, make, model, battery):\n",
    "        self.make = make\n",
    "        self.model = model\n",
    "        self.year = year\n",
    "        self.battery =  battery\n",
    "    \n",
    "    \n",
    "class Battery():\n",
    "    def __init__(self, cells):\n",
    "        self.volts = 7.8\n",
    "        self.cells = cells\n",
    "        \n",
    "bat = Battery(20)\n",
    "\n",
    "tesla = Car(2023, \"Tesla\", \"Model Y\", bat)\n",
    "\n",
    "tesla.battery.cells"
   ]
  },
  {
   "cell_type": "markdown",
   "metadata": {},
   "source": [
    "# Exercises"
   ]
  },
  {
   "cell_type": "markdown",
   "metadata": {},
   "source": [
    "### Exercise 1 - Turn the shopping cart program from yesterday into an object-oriented program\n",
    "\n",
    "The comments in the cell below are there as a guide for thinking about the problem. However, if you feel a different way is best for you and your own thought process, please do what feels best for you by all means."
   ]
  },
  {
   "cell_type": "code",
   "execution_count": null,
   "metadata": {},
   "outputs": [],
   "source": [
    "# Create a class called cart that retains items and has methods to add, remove, and show\n",
    "\n",
    "class shoppingCart():\n",
    "    def __init__(self):\n",
    "        self.items = {}\n",
    "    \n",
    "    \n",
    "    def add_item(self, item, quantity):\n",
    "        if item in self.items:\n",
    "            self.items[item] += quantity\n",
    "        else:\n",
    "            self.items[item] = quantity\n",
    "            \n",
    "    def delete_item(self, item):\n",
    "        if item in self.items:\n",
    "            del self.items[item]\n",
    "        else:\n",
    "            print(\"Item not found in the shopping cart.\")\n",
    "            \n",
    "    def show_items(self):\n",
    "        print(\"Current shopping list:\")\n",
    "        for item, quantity in self.items.items():\n",
    "            print(f\"{item}: {quantity}\")\n",
    "\n",
    "cart = ShoppingCart()\n",
    "                     \n",
    "while True:\n",
    "    cart.show_items()\n",
    "\n",
    "    action = input(\"What would you like to do? (add/delete/quit)\")\n",
    "\n",
    "    if action == \"add\":\n",
    "        item = input(\"Enter the name of the item you want to add:\")\n",
    "        quantity = int(input(\"Enter the quantity:\"))\n",
    "        cart.add_item(item, quantity)\n",
    "\n",
    "    elif action == \"delete\":\n",
    "        item = input(\"Enter the name of the item you want to delete:\")\n",
    "        cart.delete_item(item)\n",
    "\n",
    "    elif action == \"quit\":\n",
    "        print(f\"Here is your shopping cart for checkout: {} )\n",
    "        break\n",
    "\n",
    "\n",
    "\n",
    "\n",
    "    "
   ]
  },
  {
   "cell_type": "markdown",
   "metadata": {},
   "source": [
    "### Exercise 2 - Write a Python class which has two methods get_String and print_String. get_String accept a string from the user and print_String print the string in upper case"
   ]
  },
  {
   "cell_type": "code",
   "execution_count": 96,
   "metadata": {
    "scrolled": true
   },
   "outputs": [
    {
     "name": "stdout",
     "output_type": "stream",
     "text": [
      "What do you want to do: Add/Show/Delete or Quitadd\n",
      "what do you want to buyapple\n",
      "how many do you want1\n",
      "What do you want to do: Add/Show/Delete or Quitadd\n",
      "what do you want to buykiwi\n",
      "how many do you want4\n",
      "What do you want to do: Add/Show/Delete or Quitshow\n",
      "here is your grocery{'apple': '1', 'kiwi': '4'}\n",
      "What do you want to do: Add/Show/Delete or Quitquit\n",
      "thank you for shopping at our store\n",
      "come back soon {'apple': '1', 'kiwi': '4'}\n"
     ]
    }
   ],
   "source": []
  }
 ],
 "metadata": {
  "kernelspec": {
   "display_name": "Python 3 (ipykernel)",
   "language": "python",
   "name": "python3"
  },
  "language_info": {
   "codemirror_mode": {
    "name": "ipython",
    "version": 3
   },
   "file_extension": ".py",
   "mimetype": "text/x-python",
   "name": "python",
   "nbconvert_exporter": "python",
   "pygments_lexer": "ipython3",
   "version": "3.9.13"
  }
 },
 "nbformat": 4,
 "nbformat_minor": 2
}
